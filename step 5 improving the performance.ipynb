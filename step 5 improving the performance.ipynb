{
 "cells": [
  {
   "cell_type": "code",
   "execution_count": 22,
   "id": "6cd32ace",
   "metadata": {},
   "outputs": [],
   "source": [
    "import pandas as pd\n",
    "import numpy as np\n",
    "from sklearn.feature_extraction.text import TfidfVectorizer,TfidfTransformer ,CountVectorizer\n",
    "from sklearn.pipeline import Pipeline\n",
    "from sklearn.ensemble import RandomForestClassifier, ExtraTreesClassifier, GradientBoostingClassifier, AdaBoostClassifier\n",
    "from sklearn.tree import DecisionTreeClassifier\n",
    "from sklearn.svm import SVC\n",
    "from sklearn.linear_model import LogisticRegression\n",
    "from sklearn.neighbors import KNeighborsClassifier\n",
    "from sklearn.naive_bayes import GaussianNB , MultinomialNB\n",
    "from sklearn.neural_network import MLPClassifier\n",
    "from xgboost import XGBClassifier\n",
    "from sklearn.model_selection import train_test_split\n",
    "from sklearn.metrics import accuracy_score, precision_score, recall_score, confusion_matrix,hamming_loss\n",
    "import matplotlib.pyplot as plt\n",
    "import seaborn as sns\n",
    "import warnings\n",
    "warnings.filterwarnings('ignore')"
   ]
  },
  {
   "cell_type": "code",
   "execution_count": 23,
   "id": "837f7ba6",
   "metadata": {},
   "outputs": [],
   "source": [
    "# \n",
    "from skmultilearn.problem_transform import BinaryRelevance\n",
    "from skmultilearn.problem_transform import ClassifierChain\n",
    "from skmultilearn.problem_transform import LabelPowerset\n",
    "from skmultilearn.adapt import MLkNN"
   ]
  },
  {
   "cell_type": "code",
   "execution_count": 24,
   "id": "695da43d",
   "metadata": {
    "scrolled": true
   },
   "outputs": [
    {
     "data": {
      "text/html": [
       "<div>\n",
       "<style scoped>\n",
       "    .dataframe tbody tr th:only-of-type {\n",
       "        vertical-align: middle;\n",
       "    }\n",
       "\n",
       "    .dataframe tbody tr th {\n",
       "        vertical-align: top;\n",
       "    }\n",
       "\n",
       "    .dataframe thead th {\n",
       "        text-align: right;\n",
       "    }\n",
       "</style>\n",
       "<table border=\"1\" class=\"dataframe\">\n",
       "  <thead>\n",
       "    <tr style=\"text-align: right;\">\n",
       "      <th></th>\n",
       "      <th>text</th>\n",
       "      <th>id</th>\n",
       "      <th>label</th>\n",
       "      <th>cleaned_text</th>\n",
       "    </tr>\n",
       "  </thead>\n",
       "  <tbody>\n",
       "    <tr>\n",
       "      <th>0</th>\n",
       "      <td>Keep your gloves, hats, coats and jackets toge...</td>\n",
       "      <td>122885</td>\n",
       "      <td>Assembly Required</td>\n",
       "      <td>keep glove hat coat jacket togeth need entrywa...</td>\n",
       "    </tr>\n",
       "    <tr>\n",
       "      <th>1</th>\n",
       "      <td>Keep your gloves, hats, coats and jackets toge...</td>\n",
       "      <td>122885</td>\n",
       "      <td>Finish</td>\n",
       "      <td>keep glove hat coat jacket togeth need entrywa...</td>\n",
       "    </tr>\n",
       "    <tr>\n",
       "      <th>2</th>\n",
       "      <td>Keep your gloves, hats, coats and jackets toge...</td>\n",
       "      <td>122885</td>\n",
       "      <td>Hardware Included</td>\n",
       "      <td>keep glove hat coat jacket togeth need entrywa...</td>\n",
       "    </tr>\n",
       "    <tr>\n",
       "      <th>3</th>\n",
       "      <td>The Home Dynamix Serendipity Ivory 5 ft. 2 in....</td>\n",
       "      <td>188958</td>\n",
       "      <td>Commercial / Residential</td>\n",
       "      <td>home dynamix serendip ivori  ft  x  ft  area r...</td>\n",
       "    </tr>\n",
       "    <tr>\n",
       "      <th>4</th>\n",
       "      <td>The Home Dynamix Serendipity Ivory 5 ft. 2 in....</td>\n",
       "      <td>188958</td>\n",
       "      <td>Features</td>\n",
       "      <td>home dynamix serendip ivori  ft  x  ft  area r...</td>\n",
       "    </tr>\n",
       "  </tbody>\n",
       "</table>\n",
       "</div>"
      ],
      "text/plain": [
       "                                                text      id  \\\n",
       "0  Keep your gloves, hats, coats and jackets toge...  122885   \n",
       "1  Keep your gloves, hats, coats and jackets toge...  122885   \n",
       "2  Keep your gloves, hats, coats and jackets toge...  122885   \n",
       "3  The Home Dynamix Serendipity Ivory 5 ft. 2 in....  188958   \n",
       "4  The Home Dynamix Serendipity Ivory 5 ft. 2 in....  188958   \n",
       "\n",
       "                      label                                       cleaned_text  \n",
       "0         Assembly Required  keep glove hat coat jacket togeth need entrywa...  \n",
       "1                    Finish  keep glove hat coat jacket togeth need entrywa...  \n",
       "2         Hardware Included  keep glove hat coat jacket togeth need entrywa...  \n",
       "3  Commercial / Residential  home dynamix serendip ivori  ft  x  ft  area r...  \n",
       "4                  Features  home dynamix serendip ivori  ft  x  ft  area r...  "
      ]
     },
     "execution_count": 24,
     "metadata": {},
     "output_type": "execute_result"
    }
   ],
   "source": [
    "df = pd.read_csv('cleaned_text.csv')\n",
    "df.head(5)"
   ]
  },
  {
   "cell_type": "code",
   "execution_count": 25,
   "id": "cb453222",
   "metadata": {},
   "outputs": [
    {
     "data": {
      "text/plain": [
       "\"Keep your gloves, hats, coats and jackets together where you need them with the Entryway Cubbie Shelf. Perfect for any front hallway, mudroom or home office, it's three compartments have room for everything from mittens to schoolbooks. Four large hooks provide sturdy storage for your outerwear, scarves and tote bags. Install it easily with our innovative hanging rail system and get the versatile entryway piece you have been missing.Finished in durable fresh white laminateEasy to install two-piece hanging rail system includedConstructed from CARB-compliant, laminated composite woodsShips ready to assemble, includes an instruction booklet for easy assembly and has a 5-year manufacturer's limited warranty on partsAssembled dimensions: 48 in. W x 16.5 in. H x 11.5 in. DInternal dimensions: 14.25 in. W x 8.75 in. H x 10 in. D (each cubbie)\""
      ]
     },
     "execution_count": 25,
     "metadata": {},
     "output_type": "execute_result"
    }
   ],
   "source": [
    "df['text'].iloc[1]"
   ]
  },
  {
   "cell_type": "code",
   "execution_count": 5,
   "id": "8b384e8b",
   "metadata": {},
   "outputs": [],
   "source": [
    "df = df[['cleaned_text' , 'id' , 'label']]"
   ]
  },
  {
   "cell_type": "code",
   "execution_count": 6,
   "id": "a84762a2",
   "metadata": {},
   "outputs": [
    {
     "data": {
      "text/html": [
       "<div>\n",
       "<style scoped>\n",
       "    .dataframe tbody tr th:only-of-type {\n",
       "        vertical-align: middle;\n",
       "    }\n",
       "\n",
       "    .dataframe tbody tr th {\n",
       "        vertical-align: top;\n",
       "    }\n",
       "\n",
       "    .dataframe thead th {\n",
       "        text-align: right;\n",
       "    }\n",
       "</style>\n",
       "<table border=\"1\" class=\"dataframe\">\n",
       "  <thead>\n",
       "    <tr style=\"text-align: right;\">\n",
       "      <th></th>\n",
       "      <th>id</th>\n",
       "      <th>text</th>\n",
       "      <th>Assembly Required</th>\n",
       "      <th>Color</th>\n",
       "      <th>Commercial / Residential</th>\n",
       "      <th>ENERGY STAR Certified</th>\n",
       "      <th>Features</th>\n",
       "      <th>Finish</th>\n",
       "      <th>Flooring Product Type</th>\n",
       "      <th>Hardware Included</th>\n",
       "      <th>Included</th>\n",
       "      <th>Indoor/Outdoor</th>\n",
       "      <th>Package Quantity</th>\n",
       "      <th>Shape</th>\n",
       "      <th>Tools Product Type</th>\n",
       "      <th>Voltage (volts)</th>\n",
       "      <th>Wattage (watts)</th>\n",
       "    </tr>\n",
       "  </thead>\n",
       "  <tbody>\n",
       "    <tr>\n",
       "      <th>35376</th>\n",
       "      <td>210127</td>\n",
       "      <td>everbilt sheet metal alter shape cut proper eq...</td>\n",
       "      <td>0</td>\n",
       "      <td>0</td>\n",
       "      <td>0</td>\n",
       "      <td>0</td>\n",
       "      <td>0</td>\n",
       "      <td>0</td>\n",
       "      <td>0</td>\n",
       "      <td>0</td>\n",
       "      <td>0</td>\n",
       "      <td>1</td>\n",
       "      <td>1</td>\n",
       "      <td>0</td>\n",
       "      <td>0</td>\n",
       "      <td>0</td>\n",
       "      <td>0</td>\n",
       "    </tr>\n",
       "  </tbody>\n",
       "</table>\n",
       "</div>"
      ],
      "text/plain": [
       "           id                                               text  \\\n",
       "35376  210127  everbilt sheet metal alter shape cut proper eq...   \n",
       "\n",
       "       Assembly Required  Color  Commercial / Residential  \\\n",
       "35376                  0      0                         0   \n",
       "\n",
       "       ENERGY STAR Certified  Features  Finish  Flooring Product Type  \\\n",
       "35376                      0         0       0                      0   \n",
       "\n",
       "       Hardware Included  Included  Indoor/Outdoor  Package Quantity  Shape  \\\n",
       "35376                  0         0               1                 1      0   \n",
       "\n",
       "       Tools Product Type  Voltage (volts)  Wattage (watts)  \n",
       "35376                   0                0                0  "
      ]
     },
     "execution_count": 6,
     "metadata": {},
     "output_type": "execute_result"
    }
   ],
   "source": [
    "\n",
    "# Perform one-hot encoding on the 'label' column\n",
    "df_encoded = pd.get_dummies(df, columns=['label'] , prefix = '')\n",
    "\n",
    "# Group by 'text' and aggregate using max to get 1s and 0s\n",
    "df_grouped = df_encoded.groupby('id').max().reset_index()\n",
    "df_grouped.columns = df_grouped.columns.str.replace(r'^.*_', '')\n",
    "# Print the resulting DataFrame\n",
    "df_grouped.sample(1)"
   ]
  },
  {
   "cell_type": "code",
   "execution_count": 7,
   "id": "8f4b397e",
   "metadata": {},
   "outputs": [],
   "source": [
    "tfidf = TfidfVectorizer(max_features=5000)\n",
    "Xfeatures = tfidf.fit_transform(df_grouped['text']).toarray()"
   ]
  },
  {
   "cell_type": "code",
   "execution_count": 18,
   "id": "6913d644",
   "metadata": {},
   "outputs": [
    {
     "ename": "NameError",
     "evalue": "name 'X_features' is not defined",
     "output_type": "error",
     "traceback": [
      "\u001b[1;31m---------------------------------------------------------------------------\u001b[0m",
      "\u001b[1;31mNameError\u001b[0m                                 Traceback (most recent call last)",
      "\u001b[1;32mC:\\Users\\Public\\Documents\\Wondershare\\CreatorTemp\\ipykernel_9340\\3755814991.py\u001b[0m in \u001b[0;36m<module>\u001b[1;34m\u001b[0m\n\u001b[1;32m----> 1\u001b[1;33m \u001b[0mX_features\u001b[0m\u001b[1;33m.\u001b[0m\u001b[0mshape\u001b[0m\u001b[1;33m\u001b[0m\u001b[1;33m\u001b[0m\u001b[0m\n\u001b[0m",
      "\u001b[1;31mNameError\u001b[0m: name 'X_features' is not defined"
     ]
    }
   ],
   "source": [
    "len(X_features)"
   ]
  },
  {
   "cell_type": "code",
   "execution_count": 8,
   "id": "1179ed96",
   "metadata": {},
   "outputs": [],
   "source": [
    "y = df_grouped[['Assembly Required', 'Color', 'Commercial / Residential',\n",
    "       'ENERGY STAR Certified', 'Features', 'Finish', 'Flooring Product Type',\n",
    "       'Hardware Included', 'Included', 'Indoor/Outdoor', 'Package Quantity',\n",
    "       'Shape', 'Tools Product Type', 'Voltage (volts)', 'Wattage (watts)']]"
   ]
  },
  {
   "cell_type": "code",
   "execution_count": 9,
   "id": "b5f1e42c",
   "metadata": {},
   "outputs": [],
   "source": [
    "# Datasplit\n",
    "X_train,X_test,y_train,y_test = train_test_split(Xfeatures,y,test_size=0.3,random_state=42)"
   ]
  },
  {
   "cell_type": "markdown",
   "id": "966d7085",
   "metadata": {},
   "source": [
    "# Building The model"
   ]
  },
  {
   "cell_type": "markdown",
   "id": "9bfb716a",
   "metadata": {},
   "source": [
    "## Problem Transformation"
   ]
  },
  {
   "cell_type": "code",
   "execution_count": 10,
   "id": "141d1c59",
   "metadata": {},
   "outputs": [],
   "source": [
    "def build_model(model, mlb_estimator, xtrain, ytrain, xtest, ytest):\n",
    "    clf = mlb_estimator(model)\n",
    "    clf.fit(xtrain, ytrain)\n",
    "    clf_predictions = clf.predict(xtest)\n",
    "    train_acc = clf.score(xtrain, ytrain)\n",
    "    test_acc = accuracy_score(ytest, clf_predictions)\n",
    "    ham = hamming_loss(ytest, clf_predictions) * 100\n",
    "    f1 = f1_score(ytest, clf_predictions, average='micro')  # or 'weighted', 'macro', etc. based on your preference\n",
    "    result = f'Train : {train_acc} || Test : {test_acc} || Hamming_score : {ham} || F1-Score : {f1}'\n",
    "    print(model)\n",
    "    return result, clf"
   ]
  },
  {
   "cell_type": "code",
   "execution_count": 11,
   "id": "b33b2a79",
   "metadata": {},
   "outputs": [],
   "source": [
    "def output(one_df , row_number=0):\n",
    "    for x in one_df.columns:\n",
    "        if one_df[x].iloc[row_number] == 1:\n",
    "            print(x ,end=',')"
   ]
  },
  {
   "cell_type": "code",
   "execution_count": 12,
   "id": "aa4134e6",
   "metadata": {},
   "outputs": [],
   "source": [
    "model = LogisticRegression()"
   ]
  },
  {
   "cell_type": "code",
   "execution_count": 13,
   "id": "99a92f5d",
   "metadata": {},
   "outputs": [
    {
     "data": {
      "text/plain": [
       "\"\\nRandomForestClassifier()\\n'Train : 0.9991064677984741 || Test : 0.8337743565070964 || Hamming_score : 2.1329484403816856'\\nLogisticRegression:\\nTrain : 0.86634820262561 || Test : 0.8106807794082271 || Hamming_score : 2.4499505519471843\\n\""
      ]
     },
     "execution_count": 13,
     "metadata": {},
     "output_type": "execute_result"
    }
   ],
   "source": [
    "\"\"\"\n",
    "RandomForestClassifier()\n",
    "'Train : 0.9991064677984741 || Test : 0.8337743565070964 || Hamming_score : 2.1329484403816856'\n",
    "LogisticRegression:\n",
    "Train : 0.86634820262561 || Test : 0.8106807794082271 || Hamming_score : 2.4499505519471843\n",
    "\"\"\""
   ]
  },
  {
   "cell_type": "markdown",
   "id": "c1394660",
   "metadata": {},
   "source": [
    "### Binary relevance technique"
   ]
  },
  {
   "cell_type": "code",
   "execution_count": 14,
   "id": "11802239",
   "metadata": {},
   "outputs": [],
   "source": [
    "#clf_Binary_rev_model = build_model(model,BinaryRelevance,X_train,y_train,X_test,y_test)\n",
    "#clf_Binary_rev_model"
   ]
  },
  {
   "cell_type": "markdown",
   "id": "b537c585",
   "metadata": {},
   "source": [
    "###  Classifier chains technique"
   ]
  },
  {
   "cell_type": "code",
   "execution_count": 15,
   "id": "b58a9e42",
   "metadata": {},
   "outputs": [],
   "source": [
    "#clf_chain_model = build_model(model,ClassifierChain,X_train,y_train,X_test,y_test)\n",
    "#clf_chain_model"
   ]
  },
  {
   "cell_type": "markdown",
   "id": "ee8a7aff",
   "metadata": {},
   "source": [
    "### Labelpowerset technique"
   ]
  },
  {
   "cell_type": "code",
   "execution_count": 26,
   "id": "999bf0ea",
   "metadata": {},
   "outputs": [
    {
     "ename": "NameError",
     "evalue": "name 'f1_score' is not defined",
     "output_type": "error",
     "traceback": [
      "\u001b[1;31m---------------------------------------------------------------------------\u001b[0m",
      "\u001b[1;31mNameError\u001b[0m                                 Traceback (most recent call last)",
      "\u001b[1;32mC:\\Users\\Public\\Documents\\Wondershare\\CreatorTemp\\ipykernel_9340\\1028694132.py\u001b[0m in \u001b[0;36m<module>\u001b[1;34m\u001b[0m\n\u001b[1;32m----> 1\u001b[1;33m \u001b[0mclf_labelP_model\u001b[0m \u001b[1;33m,\u001b[0m \u001b[0mmodel\u001b[0m \u001b[1;33m=\u001b[0m \u001b[0mbuild_model\u001b[0m\u001b[1;33m(\u001b[0m\u001b[0mmodel\u001b[0m\u001b[1;33m,\u001b[0m\u001b[0mLabelPowerset\u001b[0m\u001b[1;33m,\u001b[0m\u001b[0mX_train\u001b[0m\u001b[1;33m,\u001b[0m\u001b[0my_train\u001b[0m\u001b[1;33m,\u001b[0m\u001b[0mX_test\u001b[0m\u001b[1;33m,\u001b[0m\u001b[0my_test\u001b[0m\u001b[1;33m)\u001b[0m\u001b[1;33m\u001b[0m\u001b[1;33m\u001b[0m\u001b[0m\n\u001b[0m\u001b[0;32m      2\u001b[0m \u001b[0mclf_labelP_model\u001b[0m\u001b[1;33m\u001b[0m\u001b[1;33m\u001b[0m\u001b[0m\n",
      "\u001b[1;32mC:\\Users\\Public\\Documents\\Wondershare\\CreatorTemp\\ipykernel_9340\\3145531719.py\u001b[0m in \u001b[0;36mbuild_model\u001b[1;34m(model, mlb_estimator, xtrain, ytrain, xtest, ytest)\u001b[0m\n\u001b[0;32m      6\u001b[0m     \u001b[0mtest_acc\u001b[0m \u001b[1;33m=\u001b[0m \u001b[0maccuracy_score\u001b[0m\u001b[1;33m(\u001b[0m\u001b[0mytest\u001b[0m\u001b[1;33m,\u001b[0m \u001b[0mclf_predictions\u001b[0m\u001b[1;33m)\u001b[0m\u001b[1;33m\u001b[0m\u001b[1;33m\u001b[0m\u001b[0m\n\u001b[0;32m      7\u001b[0m     \u001b[0mham\u001b[0m \u001b[1;33m=\u001b[0m \u001b[0mhamming_loss\u001b[0m\u001b[1;33m(\u001b[0m\u001b[0mytest\u001b[0m\u001b[1;33m,\u001b[0m \u001b[0mclf_predictions\u001b[0m\u001b[1;33m)\u001b[0m \u001b[1;33m*\u001b[0m \u001b[1;36m100\u001b[0m\u001b[1;33m\u001b[0m\u001b[1;33m\u001b[0m\u001b[0m\n\u001b[1;32m----> 8\u001b[1;33m     \u001b[0mf1\u001b[0m \u001b[1;33m=\u001b[0m \u001b[0mf1_score\u001b[0m\u001b[1;33m(\u001b[0m\u001b[0mytest\u001b[0m\u001b[1;33m,\u001b[0m \u001b[0mclf_predictions\u001b[0m\u001b[1;33m,\u001b[0m \u001b[0maverage\u001b[0m\u001b[1;33m=\u001b[0m\u001b[1;34m'micro'\u001b[0m\u001b[1;33m)\u001b[0m  \u001b[1;31m# or 'weighted', 'macro', etc. based on your preference\u001b[0m\u001b[1;33m\u001b[0m\u001b[1;33m\u001b[0m\u001b[0m\n\u001b[0m\u001b[0;32m      9\u001b[0m     \u001b[0mresult\u001b[0m \u001b[1;33m=\u001b[0m \u001b[1;34mf'Train : {train_acc} || Test : {test_acc} || Hamming_score : {ham} || F1-Score : {f1}'\u001b[0m\u001b[1;33m\u001b[0m\u001b[1;33m\u001b[0m\u001b[0m\n\u001b[0;32m     10\u001b[0m     \u001b[0mprint\u001b[0m\u001b[1;33m(\u001b[0m\u001b[0mmodel\u001b[0m\u001b[1;33m)\u001b[0m\u001b[1;33m\u001b[0m\u001b[1;33m\u001b[0m\u001b[0m\n",
      "\u001b[1;31mNameError\u001b[0m: name 'f1_score' is not defined"
     ]
    }
   ],
   "source": [
    "clf_labelP_model , model = build_model(model,LabelPowerset,X_train,y_train,X_test,y_test)\n",
    "clf_labelP_model"
   ]
  },
  {
   "cell_type": "code",
   "execution_count": 15,
   "id": "432fdff1",
   "metadata": {
    "scrolled": true
   },
   "outputs": [
    {
     "data": {
      "text/html": [
       "<div>\n",
       "<style scoped>\n",
       "    .dataframe tbody tr th:only-of-type {\n",
       "        vertical-align: middle;\n",
       "    }\n",
       "\n",
       "    .dataframe tbody tr th {\n",
       "        vertical-align: top;\n",
       "    }\n",
       "\n",
       "    .dataframe thead th {\n",
       "        text-align: right;\n",
       "    }\n",
       "</style>\n",
       "<table border=\"1\" class=\"dataframe\">\n",
       "  <thead>\n",
       "    <tr style=\"text-align: right;\">\n",
       "      <th></th>\n",
       "      <th>Assembly Required</th>\n",
       "      <th>Color</th>\n",
       "      <th>Commercial / Residential</th>\n",
       "      <th>ENERGY STAR Certified</th>\n",
       "      <th>Features</th>\n",
       "      <th>Finish</th>\n",
       "      <th>Flooring Product Type</th>\n",
       "      <th>Hardware Included</th>\n",
       "      <th>Included</th>\n",
       "      <th>Indoor/Outdoor</th>\n",
       "      <th>Package Quantity</th>\n",
       "      <th>Shape</th>\n",
       "      <th>Tools Product Type</th>\n",
       "      <th>Voltage (volts)</th>\n",
       "      <th>Wattage (watts)</th>\n",
       "    </tr>\n",
       "  </thead>\n",
       "  <tbody>\n",
       "    <tr>\n",
       "      <th>0</th>\n",
       "      <td>0.024744</td>\n",
       "      <td>0.048232</td>\n",
       "      <td>0.046443</td>\n",
       "      <td>0.738547</td>\n",
       "      <td>0.028289</td>\n",
       "      <td>0.019453</td>\n",
       "      <td>0.014283</td>\n",
       "      <td>0.192352</td>\n",
       "      <td>0.041110</td>\n",
       "      <td>0.136336</td>\n",
       "      <td>0.045803</td>\n",
       "      <td>0.041038</td>\n",
       "      <td>0.019748</td>\n",
       "      <td>0.058622</td>\n",
       "      <td>0.451099</td>\n",
       "    </tr>\n",
       "    <tr>\n",
       "      <th>1</th>\n",
       "      <td>0.054819</td>\n",
       "      <td>0.074436</td>\n",
       "      <td>0.047836</td>\n",
       "      <td>0.084432</td>\n",
       "      <td>0.028083</td>\n",
       "      <td>0.037152</td>\n",
       "      <td>0.020642</td>\n",
       "      <td>0.046453</td>\n",
       "      <td>0.208064</td>\n",
       "      <td>0.081105</td>\n",
       "      <td>0.056341</td>\n",
       "      <td>0.041022</td>\n",
       "      <td>0.635398</td>\n",
       "      <td>0.094967</td>\n",
       "      <td>0.043088</td>\n",
       "    </tr>\n",
       "    <tr>\n",
       "      <th>2</th>\n",
       "      <td>0.037384</td>\n",
       "      <td>0.035273</td>\n",
       "      <td>0.025495</td>\n",
       "      <td>0.028064</td>\n",
       "      <td>0.020044</td>\n",
       "      <td>0.038213</td>\n",
       "      <td>0.013878</td>\n",
       "      <td>0.031318</td>\n",
       "      <td>0.042465</td>\n",
       "      <td>0.046758</td>\n",
       "      <td>0.070601</td>\n",
       "      <td>0.021453</td>\n",
       "      <td>0.784820</td>\n",
       "      <td>0.045094</td>\n",
       "      <td>0.019309</td>\n",
       "    </tr>\n",
       "    <tr>\n",
       "      <th>3</th>\n",
       "      <td>0.018578</td>\n",
       "      <td>0.032533</td>\n",
       "      <td>0.025002</td>\n",
       "      <td>0.837792</td>\n",
       "      <td>0.021360</td>\n",
       "      <td>0.013279</td>\n",
       "      <td>0.007814</td>\n",
       "      <td>0.039362</td>\n",
       "      <td>0.023528</td>\n",
       "      <td>0.049011</td>\n",
       "      <td>0.022206</td>\n",
       "      <td>0.020273</td>\n",
       "      <td>0.013541</td>\n",
       "      <td>0.062625</td>\n",
       "      <td>0.559596</td>\n",
       "    </tr>\n",
       "    <tr>\n",
       "      <th>4</th>\n",
       "      <td>0.095623</td>\n",
       "      <td>0.075109</td>\n",
       "      <td>0.655035</td>\n",
       "      <td>0.694964</td>\n",
       "      <td>0.647256</td>\n",
       "      <td>0.018808</td>\n",
       "      <td>0.016525</td>\n",
       "      <td>0.026033</td>\n",
       "      <td>0.651362</td>\n",
       "      <td>0.748904</td>\n",
       "      <td>0.024663</td>\n",
       "      <td>0.025039</td>\n",
       "      <td>0.030362</td>\n",
       "      <td>0.112065</td>\n",
       "      <td>0.083496</td>\n",
       "    </tr>\n",
       "    <tr>\n",
       "      <th>...</th>\n",
       "      <td>...</td>\n",
       "      <td>...</td>\n",
       "      <td>...</td>\n",
       "      <td>...</td>\n",
       "      <td>...</td>\n",
       "      <td>...</td>\n",
       "      <td>...</td>\n",
       "      <td>...</td>\n",
       "      <td>...</td>\n",
       "      <td>...</td>\n",
       "      <td>...</td>\n",
       "      <td>...</td>\n",
       "      <td>...</td>\n",
       "      <td>...</td>\n",
       "      <td>...</td>\n",
       "    </tr>\n",
       "    <tr>\n",
       "      <th>12466</th>\n",
       "      <td>0.091027</td>\n",
       "      <td>0.078976</td>\n",
       "      <td>0.093130</td>\n",
       "      <td>0.072144</td>\n",
       "      <td>0.047648</td>\n",
       "      <td>0.039665</td>\n",
       "      <td>0.032178</td>\n",
       "      <td>0.099095</td>\n",
       "      <td>0.553848</td>\n",
       "      <td>0.091949</td>\n",
       "      <td>0.040071</td>\n",
       "      <td>0.581822</td>\n",
       "      <td>0.024177</td>\n",
       "      <td>0.442056</td>\n",
       "      <td>0.425850</td>\n",
       "    </tr>\n",
       "    <tr>\n",
       "      <th>12467</th>\n",
       "      <td>0.048659</td>\n",
       "      <td>0.044750</td>\n",
       "      <td>0.025961</td>\n",
       "      <td>0.025486</td>\n",
       "      <td>0.648943</td>\n",
       "      <td>0.174319</td>\n",
       "      <td>0.009219</td>\n",
       "      <td>0.076499</td>\n",
       "      <td>0.643900</td>\n",
       "      <td>0.032148</td>\n",
       "      <td>0.045232</td>\n",
       "      <td>0.028473</td>\n",
       "      <td>0.012763</td>\n",
       "      <td>0.024383</td>\n",
       "      <td>0.016471</td>\n",
       "    </tr>\n",
       "    <tr>\n",
       "      <th>12468</th>\n",
       "      <td>0.064498</td>\n",
       "      <td>0.046700</td>\n",
       "      <td>0.038041</td>\n",
       "      <td>0.028725</td>\n",
       "      <td>0.031082</td>\n",
       "      <td>0.774870</td>\n",
       "      <td>0.013472</td>\n",
       "      <td>0.047991</td>\n",
       "      <td>0.053860</td>\n",
       "      <td>0.042125</td>\n",
       "      <td>0.029548</td>\n",
       "      <td>0.040011</td>\n",
       "      <td>0.010401</td>\n",
       "      <td>0.028185</td>\n",
       "      <td>0.021685</td>\n",
       "    </tr>\n",
       "    <tr>\n",
       "      <th>12469</th>\n",
       "      <td>0.069387</td>\n",
       "      <td>0.111970</td>\n",
       "      <td>0.117467</td>\n",
       "      <td>0.347756</td>\n",
       "      <td>0.057252</td>\n",
       "      <td>0.038566</td>\n",
       "      <td>0.032650</td>\n",
       "      <td>0.070161</td>\n",
       "      <td>0.061632</td>\n",
       "      <td>0.159578</td>\n",
       "      <td>0.052583</td>\n",
       "      <td>0.062779</td>\n",
       "      <td>0.045095</td>\n",
       "      <td>0.454095</td>\n",
       "      <td>0.301134</td>\n",
       "    </tr>\n",
       "    <tr>\n",
       "      <th>12470</th>\n",
       "      <td>0.134352</td>\n",
       "      <td>0.148356</td>\n",
       "      <td>0.101491</td>\n",
       "      <td>0.101838</td>\n",
       "      <td>0.045216</td>\n",
       "      <td>0.090077</td>\n",
       "      <td>0.031528</td>\n",
       "      <td>0.369017</td>\n",
       "      <td>0.048118</td>\n",
       "      <td>0.133757</td>\n",
       "      <td>0.161653</td>\n",
       "      <td>0.136888</td>\n",
       "      <td>0.035153</td>\n",
       "      <td>0.060994</td>\n",
       "      <td>0.071434</td>\n",
       "    </tr>\n",
       "  </tbody>\n",
       "</table>\n",
       "<p>12471 rows × 15 columns</p>\n",
       "</div>"
      ],
      "text/plain": [
       "       Assembly Required     Color  Commercial / Residential  \\\n",
       "0               0.024744  0.048232                  0.046443   \n",
       "1               0.054819  0.074436                  0.047836   \n",
       "2               0.037384  0.035273                  0.025495   \n",
       "3               0.018578  0.032533                  0.025002   \n",
       "4               0.095623  0.075109                  0.655035   \n",
       "...                  ...       ...                       ...   \n",
       "12466           0.091027  0.078976                  0.093130   \n",
       "12467           0.048659  0.044750                  0.025961   \n",
       "12468           0.064498  0.046700                  0.038041   \n",
       "12469           0.069387  0.111970                  0.117467   \n",
       "12470           0.134352  0.148356                  0.101491   \n",
       "\n",
       "       ENERGY STAR Certified  Features    Finish  Flooring Product Type  \\\n",
       "0                   0.738547  0.028289  0.019453               0.014283   \n",
       "1                   0.084432  0.028083  0.037152               0.020642   \n",
       "2                   0.028064  0.020044  0.038213               0.013878   \n",
       "3                   0.837792  0.021360  0.013279               0.007814   \n",
       "4                   0.694964  0.647256  0.018808               0.016525   \n",
       "...                      ...       ...       ...                    ...   \n",
       "12466               0.072144  0.047648  0.039665               0.032178   \n",
       "12467               0.025486  0.648943  0.174319               0.009219   \n",
       "12468               0.028725  0.031082  0.774870               0.013472   \n",
       "12469               0.347756  0.057252  0.038566               0.032650   \n",
       "12470               0.101838  0.045216  0.090077               0.031528   \n",
       "\n",
       "       Hardware Included  Included  Indoor/Outdoor  Package Quantity  \\\n",
       "0               0.192352  0.041110        0.136336          0.045803   \n",
       "1               0.046453  0.208064        0.081105          0.056341   \n",
       "2               0.031318  0.042465        0.046758          0.070601   \n",
       "3               0.039362  0.023528        0.049011          0.022206   \n",
       "4               0.026033  0.651362        0.748904          0.024663   \n",
       "...                  ...       ...             ...               ...   \n",
       "12466           0.099095  0.553848        0.091949          0.040071   \n",
       "12467           0.076499  0.643900        0.032148          0.045232   \n",
       "12468           0.047991  0.053860        0.042125          0.029548   \n",
       "12469           0.070161  0.061632        0.159578          0.052583   \n",
       "12470           0.369017  0.048118        0.133757          0.161653   \n",
       "\n",
       "          Shape  Tools Product Type  Voltage (volts)  Wattage (watts)  \n",
       "0      0.041038            0.019748         0.058622         0.451099  \n",
       "1      0.041022            0.635398         0.094967         0.043088  \n",
       "2      0.021453            0.784820         0.045094         0.019309  \n",
       "3      0.020273            0.013541         0.062625         0.559596  \n",
       "4      0.025039            0.030362         0.112065         0.083496  \n",
       "...         ...                 ...              ...              ...  \n",
       "12466  0.581822            0.024177         0.442056         0.425850  \n",
       "12467  0.028473            0.012763         0.024383         0.016471  \n",
       "12468  0.040011            0.010401         0.028185         0.021685  \n",
       "12469  0.062779            0.045095         0.454095         0.301134  \n",
       "12470  0.136888            0.035153         0.060994         0.071434  \n",
       "\n",
       "[12471 rows x 15 columns]"
      ]
     },
     "execution_count": 15,
     "metadata": {},
     "output_type": "execute_result"
    }
   ],
   "source": [
    "pred = model.predict_proba(X_test).toarray()\n",
    "cols = y.columns\n",
    "one_df = pd.DataFrame(pred, columns=cols)\n",
    "one_df"
   ]
  },
  {
   "cell_type": "code",
   "execution_count": null,
   "id": "77433d12",
   "metadata": {},
   "outputs": [],
   "source": [
    "model"
   ]
  }
 ],
 "metadata": {
  "kernelspec": {
   "display_name": "Python 3 (ipykernel)",
   "language": "python",
   "name": "python3"
  },
  "language_info": {
   "codemirror_mode": {
    "name": "ipython",
    "version": 3
   },
   "file_extension": ".py",
   "mimetype": "text/x-python",
   "name": "python",
   "nbconvert_exporter": "python",
   "pygments_lexer": "ipython3",
   "version": "3.9.13"
  }
 },
 "nbformat": 4,
 "nbformat_minor": 5
}
